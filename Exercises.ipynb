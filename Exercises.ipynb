{
 "cells": [
  {
   "cell_type": "markdown",
   "metadata": {
    "slideshow": {
     "slide_type": "slide"
    }
   },
   "source": [
    "## Lighthouse Labs\n",
    "### W02D1 SQL - BINDER\n",
    "\n",
    "Instructor: Socorro Dominguez  "
   ]
  },
  {
   "cell_type": "markdown",
   "metadata": {
    "slideshow": {
     "slide_type": "slide"
    }
   },
   "source": [
    "[Lecture Link](https://downgit.github.io/#/home?url=https://github.com/sedv8808/LighthouseLabs/tree/main/W02D1)"
   ]
  },
  {
   "cell_type": "markdown",
   "metadata": {
    "slideshow": {
     "slide_type": "slide"
    }
   },
   "source": [
    "## Exercise"
   ]
  },
  {
   "cell_type": "markdown",
   "metadata": {
    "slideshow": {
     "slide_type": "slide"
    }
   },
   "source": [
    "To write to a database:\n",
    "\n",
    "(You will need the `drinks.sql` file in the same directory as this notebook)"
   ]
  },
  {
   "cell_type": "code",
   "execution_count": null,
   "metadata": {
    "slideshow": {
     "slide_type": "slide"
    }
   },
   "outputs": [],
   "source": [
    "import psycopg2\n",
    "import pandas as pd\n"
   ]
  },
  {
   "cell_type": "code",
   "execution_count": null,
   "metadata": {},
   "outputs": [],
   "source": [
    "conn = psycopg2.connect(\"dbname='postgres'\")\n",
    "cur = conn.cursor()\n",
    "cur.execute(\"SELECT datname from pg_database\")\n",
    "\n",
    "cur.fetchall()"
   ]
  },
  {
   "cell_type": "code",
   "execution_count": null,
   "metadata": {},
   "outputs": [],
   "source": [
    "cur.execute(open('drinks.sql', 'r').read())  # Uncomment this the first time you run the db"
   ]
  },
  {
   "cell_type": "code",
   "execution_count": null,
   "metadata": {},
   "outputs": [],
   "source": [
    "# Example\n",
    "cur.execute(\n",
    "\"\"\"\n",
    "SELECT *\n",
    "FROM orders\n",
    "LIMIT 5;\n",
    "\"\"\")\n",
    "\n",
    "response = cur.fetchall()"
   ]
  },
  {
   "cell_type": "code",
   "execution_count": null,
   "metadata": {
    "slideshow": {
     "slide_type": "slide"
    }
   },
   "outputs": [],
   "source": [
    "# raw response\n",
    "response"
   ]
  },
  {
   "cell_type": "markdown",
   "metadata": {
    "slideshow": {
     "slide_type": "fragment"
    }
   },
   "source": [
    "* orders(<em><ins>person</ins></em>: string, <em><ins>date</ins></em>: string,  <em><ins>bar</ins></em>: string, <em><ins>drink_id</ins></em>: string, quantity: integer)\n"
   ]
  },
  {
   "cell_type": "markdown",
   "metadata": {
    "slideshow": {
     "slide_type": "slide"
    }
   },
   "source": [
    "An easier way to see the data..."
   ]
  },
  {
   "cell_type": "code",
   "execution_count": null,
   "metadata": {
    "scrolled": true,
    "slideshow": {
     "slide_type": "fragment"
    }
   },
   "outputs": [],
   "source": [
    "pd.DataFrame(response, columns = ['person', 'date', 'bar', 'drink_id', 'qty']) "
   ]
  },
  {
   "cell_type": "code",
   "execution_count": null,
   "metadata": {},
   "outputs": [],
   "source": [
    "# Before doing anything else, let's create a function out\n",
    "# of the things we're doing above\n",
    "def execute_query(query_string, return_pandas=True):\n",
    "    if return_pandas:\n",
    "        response = pd.read_sql_query(query_string, conn)\n",
    "    else:\n",
    "        cur.execute(query_string)\n",
    "        response = cur.fetchall()\n",
    "    return response\n",
    "\n",
    "\n",
    "# Let's try out our function to make sure it does\n",
    "# the same as what we have above\n",
    "query = \"\"\"\n",
    "SELECT * \n",
    "FROM orders \n",
    "LIMIT 5;\n",
    "\"\"\"\n",
    "execute_query(query)"
   ]
  },
  {
   "cell_type": "markdown",
   "metadata": {
    "slideshow": {
     "slide_type": "slide"
    }
   },
   "source": [
    "## Exercise in Groups\n",
    "\n",
    "### Remember collaboration is key."
   ]
  },
  {
   "cell_type": "markdown",
   "metadata": {},
   "source": [
    "Get the bar name and average price of drinks at each bar.\n",
    "<table style=\"border: 5px; width: 100%\">\n",
    " <tr>\n",
    "    <td><b style=\"font-size:30px\">has_on_menu</b></td>\n",
    "    <td><b style=\"font-size:30px\">orders</b></td>\n",
    "    <td><b style=\"font-size:30px\">drink_info</b></td>\n",
    " </tr>\n",
    " <tr>\n",
    "    <td style=\"font-size:20px\"><b>drink_id</b>: string</td>\n",
    "    <td style=\"font-size:20px\"><b>drink_id</b>: string</td>\n",
    "    <td style=\"font-size:20px\"><b>drink_id</b>: string</td>\n",
    " </tr>\n",
    " <tr>\n",
    "    <td style=\"font-size:20px\"><b>bar</b>: string</td>\n",
    "    <td style=\"font-size:20px\"><b>bar</b>: string</td>\n",
    "    <td style=\"font-size:20px\"><b>type</b>: string</td>\n",
    " </tr>\n",
    " <tr>\n",
    "    <td style=\"font-size:20px\"><b>price</b>: real</td>\n",
    "    <td style=\"font-size:20px\"><b>person</b>: string</td>\n",
    "    <td style=\"font-size:20px\"></td>\n",
    " </tr>\n",
    " <tr>\n",
    "    <td style=\"font-size:20px\"></td>\n",
    "    <td style=\"font-size:20px\"><b>date</b>: string</td>\n",
    "    <td style=\"font-size:20px\"></td>\n",
    " </tr>\n",
    " <tr>\n",
    "    <td style=\"font-size:20px\"></td>\n",
    "    <td style=\"font-size:20px\"><b>quantity</b>: integer</td>\n",
    "    <td style=\"font-size:20px\"></td>\n",
    " </tr>\n",
    "</table>"
   ]
  },
  {
   "cell_type": "markdown",
   "metadata": {
    "slideshow": {
     "slide_type": "slide"
    }
   },
   "source": [
    "## Let's work through some problems\n",
    "\n",
    "### Question 1:\n",
    "Get the bar name and average price of each bar\n",
    "\n",
    "What do you think? What table do we need? What calculation do we need?"
   ]
  },
  {
   "cell_type": "code",
   "execution_count": null,
   "metadata": {},
   "outputs": [],
   "source": [
    "'''\n",
    "query= \"\"\"\n",
    "\"\"\"\n",
    "\n",
    "execute_query(query)\n",
    "'''"
   ]
  },
  {
   "cell_type": "markdown",
   "metadata": {
    "slideshow": {
     "slide_type": "slide"
    }
   },
   "source": [
    "### Question 2:\n",
    "Get the bars with the top 5 average prices.\n",
    "\n",
    "What do you think? How can we adapt the code we did before?"
   ]
  },
  {
   "cell_type": "code",
   "execution_count": null,
   "metadata": {
    "scrolled": true,
    "slideshow": {
     "slide_type": "subslide"
    }
   },
   "outputs": [],
   "source": [
    "'''\n",
    "query= \"\"\"\n",
    "\"\"\"\n",
    "\n",
    "execute_query(query)\n",
    "'''"
   ]
  },
  {
   "cell_type": "markdown",
   "metadata": {
    "slideshow": {
     "slide_type": "slide"
    }
   },
   "source": [
    "### Question 3:\n",
    "Which bar sells the cheapest drink? Which drink and what's the price?"
   ]
  },
  {
   "cell_type": "code",
   "execution_count": null,
   "metadata": {
    "slideshow": {
     "slide_type": "subslide"
    }
   },
   "outputs": [],
   "source": [
    "'''\n",
    "query= \"\"\"\n",
    "\"\"\"\n",
    "\n",
    "execute_query(query)\n",
    "'''"
   ]
  },
  {
   "cell_type": "markdown",
   "metadata": {
    "slideshow": {
     "slide_type": "slide"
    }
   },
   "source": [
    "### Question 4:\n",
    "What is the number of beers sold by each bar?\n",
    "\n",
    "(If you interpret it to be \"sold\" as in available for sale, then you need `has_on_menu`; if you interpret \"sold\" as in a sale was made, then you need `orders`)\n",
    "\n",
    "Hint: you need two tables here"
   ]
  },
  {
   "cell_type": "code",
   "execution_count": null,
   "metadata": {},
   "outputs": [],
   "source": [
    "'''\n",
    "query= \"\"\"\n",
    "\"\"\"\n",
    "\n",
    "execute_query(query)\n",
    "'''"
   ]
  },
  {
   "cell_type": "markdown",
   "metadata": {
    "slideshow": {
     "slide_type": "slide"
    }
   },
   "source": [
    "### Challenge question\n",
    "\n",
    "For each person, find the bar they visit, and the type(s) and price(s) of the drink(s) they drink during those visits.\n"
   ]
  },
  {
   "cell_type": "code",
   "execution_count": null,
   "metadata": {
    "slideshow": {
     "slide_type": "subslide"
    }
   },
   "outputs": [],
   "source": [
    "'''\n",
    "query= \"\"\"\n",
    "\"\"\"\n",
    "\n",
    "execute_query(query)\n",
    "'''"
   ]
  },
  {
   "cell_type": "markdown",
   "metadata": {
    "slideshow": {
     "slide_type": "slide"
    }
   },
   "source": [
    "### Making sure we close off the connection"
   ]
  },
  {
   "cell_type": "code",
   "execution_count": null,
   "metadata": {
    "slideshow": {
     "slide_type": "-"
    }
   },
   "outputs": [],
   "source": [
    "cur.close()"
   ]
  }
 ],
 "metadata": {
  "celltoolbar": "Slideshow",
  "kernelspec": {
   "display_name": "Python 3",
   "language": "python",
   "name": "python3"
  },
  "language_info": {
   "codemirror_mode": {
    "name": "ipython",
    "version": 3
   },
   "file_extension": ".py",
   "mimetype": "text/x-python",
   "name": "python",
   "nbconvert_exporter": "python",
   "pygments_lexer": "ipython3",
   "version": "3.7.4"
  }
 },
 "nbformat": 4,
 "nbformat_minor": 4
}
